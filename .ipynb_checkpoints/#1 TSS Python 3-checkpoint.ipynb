{
 "cells": [
  {
   "cell_type": "code",
   "execution_count": 8,
   "id": "b6c62330",
   "metadata": {},
   "outputs": [
    {
     "name": "stdout",
     "output_type": "stream",
     "text": [
      "10 25 30\n",
      "10\n"
     ]
    }
   ],
   "source": [
    "# Enter your code here. Read input from STDIN. Print output to STDOUT\n",
    "# take input \n",
    "input_line = input()\n",
    "# split string to array \n",
    "input_arr = input_line.split()\n",
    "# getting length of array\n",
    "len_of_array = len(input_arr)\n",
    "\n",
    "# loop to count average time\n",
    "waiting_time = 0.0\n",
    "# counter \n",
    "count = 0\n",
    "while count < len_of_array-1:\n",
    "    # getting start time and end time\n",
    "    start_time = float(input_arr[count])\n",
    "    end_time = float(input_arr[count + 1])\n",
    "    # calculating waiting time\n",
    "    waiting_time = waiting_time + (end_time - start_time)\n",
    "    # increment counter\n",
    "    count = count + 1\n",
    "    \n",
    "# Calculate average waiting time\n",
    "avg_time = waiting_time / (len_of_array -1 )\n",
    "# Rounding off to nearest interger\n",
    "avg_time_int = int(round(avg_time, 1))\n",
    "# Priting the result\n",
    "print(avg_time_int)"
   ]
  },
  {
   "cell_type": "code",
   "execution_count": 11,
   "id": "88ac3e3f",
   "metadata": {},
   "outputs": [
    {
     "name": "stdout",
     "output_type": "stream",
     "text": [
      "YYNYYYNNY\n",
      "3\n"
     ]
    }
   ],
   "source": [
    "def longest_streak(exercise_record):\n",
    "    max_streak = 0\n",
    "    current_streak = 0\n",
    "    for day in exercise_record:\n",
    "        if day == 'Y':\n",
    "            current_streak += 1\n",
    "            max_streak = max(max_streak, current_streak)\n",
    "        else:\n",
    "            current_streak = 0\n",
    "    return max_streak\n",
    "\n",
    "exercise_record = input().strip()\n",
    "print(longest_streak(exercise_record))"
   ]
  },
  {
   "cell_type": "code",
   "execution_count": 12,
   "id": "94627a21",
   "metadata": {},
   "outputs": [
    {
     "ename": "NameError",
     "evalue": "name 'YYNYYYNNY' is not defined",
     "output_type": "error",
     "traceback": [
      "\u001b[0;31m---------------------------------------------------------------------------\u001b[0m",
      "\u001b[0;31mNameError\u001b[0m                                 Traceback (most recent call last)",
      "\u001b[0;32m/var/folders/kz/h8tq975x2157t01n92bx67zw0000gn/T/ipykernel_70315/4016821283.py\u001b[0m in \u001b[0;36m<module>\u001b[0;34m\u001b[0m\n\u001b[0;32m----> 1\u001b[0;31m \u001b[0mYYNYYYNNY\u001b[0m\u001b[0;34m\u001b[0m\u001b[0;34m\u001b[0m\u001b[0m\n\u001b[0m",
      "\u001b[0;31mNameError\u001b[0m: name 'YYNYYYNNY' is not defined"
     ]
    }
   ],
   "source": [
    "YYNYYYNNY"
   ]
  },
  {
   "cell_type": "code",
   "execution_count": 13,
   "id": "d9513034",
   "metadata": {},
   "outputs": [
    {
     "name": "stdout",
     "output_type": "stream",
     "text": [
      "YYNYYYNNY\n",
      "3\n"
     ]
    }
   ],
   "source": [
    "# Enter your code here. Read input from STDIN. Print output to STDOUT\n",
    "def longest_streak(exercise_record):\n",
    "    max_streak = 0\n",
    "    current_streak = 0\n",
    "    for day in exercise_record:\n",
    "        if day == 'Y':\n",
    "            current_streak += 1\n",
    "            if current_streak > max_streak:\n",
    "                max_streak = current_streak\n",
    "        else:\n",
    "            current_streak = 0\n",
    "            \n",
    "    return max_streak\n",
    "exercise_record = input().strip()\n",
    "print(longest_streak(exercise_record))"
   ]
  },
  {
   "cell_type": "code",
   "execution_count": 15,
   "id": "fe97c183",
   "metadata": {},
   "outputs": [
    {
     "name": "stdout",
     "output_type": "stream",
     "text": [
      "Y Y N Y Y Y N N Y\n",
      "1\n"
     ]
    }
   ],
   "source": [
    "# Enter your code here. Read input from STDIN. Print output to STDOUT\n",
    "\n",
    "def longest_streak(exercise_record):\n",
    "        max_streak = 0\n",
    "        current_streak = 0\n",
    "        for day in exercise_record:\n",
    "            if day == 'Y':\n",
    "                current_streak += 1\n",
    "                max_streak = max(max_streak, current_streak)\n",
    "            else:\n",
    "                current_streak = 0\n",
    "        return max_streak\n",
    "        \n",
    "exercise_record = input().strip()\n",
    "print(longest_streak(exercise_record))"
   ]
  },
  {
   "cell_type": "code",
   "execution_count": 18,
   "id": "1499abd6",
   "metadata": {},
   "outputs": [
    {
     "data": {
      "text/plain": [
       "69.0"
      ]
     },
     "execution_count": 18,
     "metadata": {},
     "output_type": "execute_result"
    }
   ],
   "source": [
    "(69 + 68 + 67 +71 + 70)/(5)"
   ]
  },
  {
   "cell_type": "code",
   "execution_count": null,
   "id": "0cf7e82a",
   "metadata": {},
   "outputs": [],
   "source": []
  }
 ],
 "metadata": {
  "kernelspec": {
   "display_name": "Python 3 (ipykernel)",
   "language": "python",
   "name": "python3"
  },
  "language_info": {
   "codemirror_mode": {
    "name": "ipython",
    "version": 3
   },
   "file_extension": ".py",
   "mimetype": "text/x-python",
   "name": "python",
   "nbconvert_exporter": "python",
   "pygments_lexer": "ipython3",
   "version": "3.9.13"
  }
 },
 "nbformat": 4,
 "nbformat_minor": 5
}
